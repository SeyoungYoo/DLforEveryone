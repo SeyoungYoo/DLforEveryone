{
  "nbformat": 4,
  "nbformat_minor": 0,
  "metadata": {
    "colab": {
      "name": "ML_Lab03-Minimizing_Cost.ipynb",
      "provenance": [],
      "collapsed_sections": [],
      "toc_visible": true,
      "authorship_tag": "ABX9TyOqk2cG94FGLZZxsoVu9SD1",
      "include_colab_link": true
    },
    "kernelspec": {
      "name": "python3",
      "display_name": "Python 3"
    },
    "language_info": {
      "name": "python"
    }
  },
  "cells": [
    {
      "cell_type": "markdown",
      "metadata": {
        "id": "view-in-github",
        "colab_type": "text"
      },
      "source": [
        "<a href=\"https://colab.research.google.com/github/SeyoungYoo/DLforEveryone/blob/main/Season01/ML_Lab03_Minimizing_Cost.ipynb\" target=\"_parent\"><img src=\"https://colab.research.google.com/assets/colab-badge.svg\" alt=\"Open In Colab\"/></a>"
      ]
    },
    {
      "cell_type": "code",
      "metadata": {
        "colab": {
          "base_uri": "https://localhost:8080/"
        },
        "id": "j_vc15NL19b1",
        "outputId": "3a3b12dc-bd51-457b-afdc-389ec45ea9ff"
      },
      "source": [
        "pip install tensorflow==1.15.0"
      ],
      "execution_count": 1,
      "outputs": [
        {
          "output_type": "stream",
          "text": [
            "Collecting tensorflow==1.15.0\n",
            "\u001b[?25l  Downloading https://files.pythonhosted.org/packages/92/2b/e3af15221da9ff323521565fa3324b0d7c7c5b1d7a8ca66984c8d59cb0ce/tensorflow-1.15.0-cp37-cp37m-manylinux2010_x86_64.whl (412.3MB)\n",
            "\u001b[K     |████████████████████████████████| 412.3MB 38kB/s \n",
            "\u001b[?25hRequirement already satisfied: keras-preprocessing>=1.0.5 in /usr/local/lib/python3.7/dist-packages (from tensorflow==1.15.0) (1.1.2)\n",
            "Requirement already satisfied: six>=1.10.0 in /usr/local/lib/python3.7/dist-packages (from tensorflow==1.15.0) (1.15.0)\n",
            "Requirement already satisfied: grpcio>=1.8.6 in /usr/local/lib/python3.7/dist-packages (from tensorflow==1.15.0) (1.32.0)\n",
            "Requirement already satisfied: wheel>=0.26 in /usr/local/lib/python3.7/dist-packages (from tensorflow==1.15.0) (0.36.2)\n",
            "Requirement already satisfied: google-pasta>=0.1.6 in /usr/local/lib/python3.7/dist-packages (from tensorflow==1.15.0) (0.2.0)\n",
            "Collecting tensorboard<1.16.0,>=1.15.0\n",
            "\u001b[?25l  Downloading https://files.pythonhosted.org/packages/1e/e9/d3d747a97f7188f48aa5eda486907f3b345cd409f0a0850468ba867db246/tensorboard-1.15.0-py3-none-any.whl (3.8MB)\n",
            "\u001b[K     |████████████████████████████████| 3.8MB 31.4MB/s \n",
            "\u001b[?25hRequirement already satisfied: numpy<2.0,>=1.16.0 in /usr/local/lib/python3.7/dist-packages (from tensorflow==1.15.0) (1.19.5)\n",
            "Requirement already satisfied: opt-einsum>=2.3.2 in /usr/local/lib/python3.7/dist-packages (from tensorflow==1.15.0) (3.3.0)\n",
            "Collecting tensorflow-estimator==1.15.1\n",
            "\u001b[?25l  Downloading https://files.pythonhosted.org/packages/de/62/2ee9cd74c9fa2fa450877847ba560b260f5d0fb70ee0595203082dafcc9d/tensorflow_estimator-1.15.1-py2.py3-none-any.whl (503kB)\n",
            "\u001b[K     |████████████████████████████████| 512kB 21.9MB/s \n",
            "\u001b[?25hRequirement already satisfied: termcolor>=1.1.0 in /usr/local/lib/python3.7/dist-packages (from tensorflow==1.15.0) (1.1.0)\n",
            "Collecting gast==0.2.2\n",
            "  Downloading https://files.pythonhosted.org/packages/4e/35/11749bf99b2d4e3cceb4d55ca22590b0d7c2c62b9de38ac4a4a7f4687421/gast-0.2.2.tar.gz\n",
            "Requirement already satisfied: protobuf>=3.6.1 in /usr/local/lib/python3.7/dist-packages (from tensorflow==1.15.0) (3.12.4)\n",
            "Requirement already satisfied: absl-py>=0.7.0 in /usr/local/lib/python3.7/dist-packages (from tensorflow==1.15.0) (0.10.0)\n",
            "Requirement already satisfied: astor>=0.6.0 in /usr/local/lib/python3.7/dist-packages (from tensorflow==1.15.0) (0.8.1)\n",
            "Collecting keras-applications>=1.0.8\n",
            "\u001b[?25l  Downloading https://files.pythonhosted.org/packages/71/e3/19762fdfc62877ae9102edf6342d71b28fbfd9dea3d2f96a882ce099b03f/Keras_Applications-1.0.8-py3-none-any.whl (50kB)\n",
            "\u001b[K     |████████████████████████████████| 51kB 4.1MB/s \n",
            "\u001b[?25hRequirement already satisfied: wrapt>=1.11.1 in /usr/local/lib/python3.7/dist-packages (from tensorflow==1.15.0) (1.12.1)\n",
            "Requirement already satisfied: setuptools>=41.0.0 in /usr/local/lib/python3.7/dist-packages (from tensorboard<1.16.0,>=1.15.0->tensorflow==1.15.0) (54.1.2)\n",
            "Requirement already satisfied: werkzeug>=0.11.15 in /usr/local/lib/python3.7/dist-packages (from tensorboard<1.16.0,>=1.15.0->tensorflow==1.15.0) (1.0.1)\n",
            "Requirement already satisfied: markdown>=2.6.8 in /usr/local/lib/python3.7/dist-packages (from tensorboard<1.16.0,>=1.15.0->tensorflow==1.15.0) (3.3.4)\n",
            "Requirement already satisfied: h5py in /usr/local/lib/python3.7/dist-packages (from keras-applications>=1.0.8->tensorflow==1.15.0) (2.10.0)\n",
            "Requirement already satisfied: importlib-metadata; python_version < \"3.8\" in /usr/local/lib/python3.7/dist-packages (from markdown>=2.6.8->tensorboard<1.16.0,>=1.15.0->tensorflow==1.15.0) (3.7.2)\n",
            "Requirement already satisfied: zipp>=0.5 in /usr/local/lib/python3.7/dist-packages (from importlib-metadata; python_version < \"3.8\"->markdown>=2.6.8->tensorboard<1.16.0,>=1.15.0->tensorflow==1.15.0) (3.4.1)\n",
            "Requirement already satisfied: typing-extensions>=3.6.4; python_version < \"3.8\" in /usr/local/lib/python3.7/dist-packages (from importlib-metadata; python_version < \"3.8\"->markdown>=2.6.8->tensorboard<1.16.0,>=1.15.0->tensorflow==1.15.0) (3.7.4.3)\n",
            "Building wheels for collected packages: gast\n",
            "  Building wheel for gast (setup.py) ... \u001b[?25l\u001b[?25hdone\n",
            "  Created wheel for gast: filename=gast-0.2.2-cp37-none-any.whl size=7540 sha256=05e206fe281f2a2b135004010c78782179b72422b53f3d2ee4a5ae4878ad959d\n",
            "  Stored in directory: /root/.cache/pip/wheels/5c/2e/7e/a1d4d4fcebe6c381f378ce7743a3ced3699feb89bcfbdadadd\n",
            "Successfully built gast\n",
            "\u001b[31mERROR: tensorflow-probability 0.12.1 has requirement gast>=0.3.2, but you'll have gast 0.2.2 which is incompatible.\u001b[0m\n",
            "Installing collected packages: tensorboard, tensorflow-estimator, gast, keras-applications, tensorflow\n",
            "  Found existing installation: tensorboard 2.4.1\n",
            "    Uninstalling tensorboard-2.4.1:\n",
            "      Successfully uninstalled tensorboard-2.4.1\n",
            "  Found existing installation: tensorflow-estimator 2.4.0\n",
            "    Uninstalling tensorflow-estimator-2.4.0:\n",
            "      Successfully uninstalled tensorflow-estimator-2.4.0\n",
            "  Found existing installation: gast 0.3.3\n",
            "    Uninstalling gast-0.3.3:\n",
            "      Successfully uninstalled gast-0.3.3\n",
            "  Found existing installation: tensorflow 2.4.1\n",
            "    Uninstalling tensorflow-2.4.1:\n",
            "      Successfully uninstalled tensorflow-2.4.1\n",
            "Successfully installed gast-0.2.2 keras-applications-1.0.8 tensorboard-1.15.0 tensorflow-1.15.0 tensorflow-estimator-1.15.1\n"
          ],
          "name": "stdout"
        }
      ]
    },
    {
      "cell_type": "markdown",
      "metadata": {
        "id": "kgC459sK4eC8"
      },
      "source": [
        "##**cost를 최소화하기**"
      ]
    },
    {
      "cell_type": "code",
      "metadata": {
        "id": "ZrrSPbA92CrL"
      },
      "source": [
        "import tensorflow as tf\n",
        "import matplotlib.pyplot as plt"
      ],
      "execution_count": 2,
      "outputs": []
    },
    {
      "cell_type": "code",
      "metadata": {
        "id": "CncjROUh4me3"
      },
      "source": [
        "X = [1,2,3]\n",
        "Y = [1,2,3]"
      ],
      "execution_count": 3,
      "outputs": []
    },
    {
      "cell_type": "code",
      "metadata": {
        "id": "UrPkaLpZ4viJ"
      },
      "source": [
        "W = tf.placeholder(tf.float32)"
      ],
      "execution_count": 4,
      "outputs": []
    },
    {
      "cell_type": "code",
      "metadata": {
        "id": "lRuuwuNi40FN"
      },
      "source": [
        "# Our hypothesis for linear model X * W\n",
        "hypothesis = X * W\n",
        "\n",
        "# cost/Loss Function\n",
        "cost = tf.reduce_mean(tf.square(hypothesis - Y))"
      ],
      "execution_count": 5,
      "outputs": []
    },
    {
      "cell_type": "code",
      "metadata": {
        "id": "NnSu8Oyl5Mx1"
      },
      "source": [
        "# Launch the graph in a session.\n",
        "sess = tf.Session()\n",
        "\n",
        "# Initializes global variables in the graph.\n",
        "sess.run(tf.global_variables_initializer())"
      ],
      "execution_count": 6,
      "outputs": []
    },
    {
      "cell_type": "code",
      "metadata": {
        "id": "Z4_ralS-5aYk"
      },
      "source": [
        "# Variables for plotting cost function\n",
        "# 그래프를 실행시키면서 발생할 W, cost를 저장할 리스트\n",
        "W_val = []\n",
        "cost_val = []"
      ],
      "execution_count": 7,
      "outputs": []
    },
    {
      "cell_type": "code",
      "metadata": {
        "id": "L86nCe3G5lpA"
      },
      "source": [
        "# -30~50 실행시키기\n",
        "for i in range(-30, 50):\n",
        "  feed_W = i * 0.1    # W는 -3~5 사이를 움직임.\n",
        "  curr_cost, curr_W = sess.run([cost, W], feed_dict = {W: feed_W})    # feed_dict로 W를 바꿔가면서 실행\n",
        "  # 실행하면서 발생한 W와 cost를 리스트에 저장하기\n",
        "  W_val.append(curr_W)\n",
        "  cost_val.append(curr_cost)"
      ],
      "execution_count": 8,
      "outputs": []
    },
    {
      "cell_type": "code",
      "metadata": {
        "colab": {
          "base_uri": "https://localhost:8080/",
          "height": 265
        },
        "id": "p6ZXFjwl6Ywe",
        "outputId": "cc28bd85-c4a2-486f-c4b5-a404502aca22"
      },
      "source": [
        "# Show the cost fuction\n",
        "# 그래프 그리기\n",
        "plt.plot(W_val, cost_val)   # x축: W_val, y축: cost_val\n",
        "plt.show()"
      ],
      "execution_count": 9,
      "outputs": [
        {
          "output_type": "display_data",
          "data": {
            "image/png": "[encoded data removed]",
            "text/plain": [
              "<Figure size 432x288 with 1 Axes>"
            ]
          },
          "metadata": {
            "tags": [],
            "needs_background": "light"
          }
        }
      ]
    },
    {
      "cell_type": "markdown",
      "metadata": {
        "id": "MSWnse7463uB"
      },
      "source": [
        "* W가 1일 때 cost가 가장 최소화된다."
      ]
    },
    {
      "cell_type": "markdown",
      "metadata": {
        "id": "cBtIwJ287z0r"
      },
      "source": [
        "##**Gradient descent**"
      ]
    },
    {
      "cell_type": "markdown",
      "metadata": {
        "id": "IC2RLVZH8UOT"
      },
      "source": [
        "* cost의 최소화: 미분을 이용하여 Gradient Descent \n",
        "* W -= learning_rate * derivative\n",
        "\n",
        "  ```\n",
        "  learning_rate = 0.1\n",
        "  gradient = tf.reduce_mean((W * X - Y) * X)\n",
        "  descent = W - learning_rate * gradient\n",
        "  update = W.assign(descent) \n",
        "  ```\n",
        "\n",
        "  * graph에서 update를 실행시키면 위의 알고리즘이 돌아간다."
      ]
    },
    {
      "cell_type": "markdown",
      "metadata": {
        "id": "bX9rgZD_9DQl"
      },
      "source": [
        "###**cost 최소화하기2**"
      ]
    },
    {
      "cell_type": "markdown",
      "metadata": {
        "id": "UPVQj0CF9HWv"
      },
      "source": [
        "* Gradient Descent 이용"
      ]
    },
    {
      "cell_type": "code",
      "metadata": {
        "id": "vD7DlHZB9V5j"
      },
      "source": [
        "import tensorflow as tf"
      ],
      "execution_count": 10,
      "outputs": []
    },
    {
      "cell_type": "code",
      "metadata": {
        "id": "kh2wudBv9ZBe"
      },
      "source": [
        "x_data = [1,2,3]\n",
        "y_data = [1,2,3]"
      ],
      "execution_count": 11,
      "outputs": []
    },
    {
      "cell_type": "code",
      "metadata": {
        "id": "ICRso_A_9cYG"
      },
      "source": [
        "W = tf.Variable(tf.random_normal([1]), name = 'weight')\n",
        "X = tf.placeholder(tf.float32)\n",
        "Y = tf.placeholder(tf.float32)"
      ],
      "execution_count": 12,
      "outputs": []
    },
    {
      "cell_type": "code",
      "metadata": {
        "id": "HabuITJK9lrr"
      },
      "source": [
        "# Our hypothesis for linear model X * W\n",
        "hypothesis = X * W"
      ],
      "execution_count": 13,
      "outputs": []
    },
    {
      "cell_type": "code",
      "metadata": {
        "id": "ooIKNU_79q_G"
      },
      "source": [
        "# cost/Loss function\n",
        "cost = tf.reduce_mean(tf.square(hypothesis - Y))"
      ],
      "execution_count": 14,
      "outputs": []
    },
    {
      "cell_type": "code",
      "metadata": {
        "id": "ebflrrio9wPr"
      },
      "source": [
        "# Minimize: Gradient Descent using derivative: W -= learning_rate * derivative\n",
        "learning_rate = 0.1\n",
        "gradient = tf.reduce_mean((W * X - Y) * X)\n",
        "descent = W - learning_rate * gradient\n",
        "update = W.assign(descent)"
      ],
      "execution_count": 16,
      "outputs": []
    },
    {
      "cell_type": "code",
      "metadata": {
        "id": "buvAVN96-Wzx"
      },
      "source": [
        "# Launch the graph in a session.\n",
        "sess = tf.Session()\n",
        "\n",
        "# Initializes global variables in the graph.\n",
        "sess.run(tf.global_variables_initializer())"
      ],
      "execution_count": 17,
      "outputs": []
    },
    {
      "cell_type": "code",
      "metadata": {
        "colab": {
          "base_uri": "https://localhost:8080/"
        },
        "id": "O4D5H_22-kel",
        "outputId": "dee9a1e6-0974-4d1b-bb08-bbbecf9b73c4"
      },
      "source": [
        "for step in range(21):\n",
        "  sess.run(update, feed_dict = {X: x_data, Y: y_data})\n",
        "  print(step, sess.run(cost, feed_dict = {X: x_data, Y: y_data}), sess.run(W))"
      ],
      "execution_count": 18,
      "outputs": [
        {
          "output_type": "stream",
          "text": [
            "0 0.95181566 [0.54838014]\n",
            "1 0.27073872 [0.7591361]\n",
            "2 0.07701009 [0.87153924]\n",
            "3 0.021905119 [0.93148756]\n",
            "4 0.0062307864 [0.96346]\n",
            "5 0.0017723171 [0.980512]\n",
            "6 0.0005041205 [0.98960644]\n",
            "7 0.00014339463 [0.99445677]\n",
            "8 4.0787807e-05 [0.9970436]\n",
            "9 1.1601761e-05 [0.9984233]\n",
            "10 3.299878e-06 [0.9991591]\n",
            "11 9.385654e-07 [0.99955153]\n",
            "12 2.6702486e-07 [0.9997608]\n",
            "13 7.59267e-08 [0.99987245]\n",
            "14 2.1592422e-08 [0.999932]\n",
            "15 6.1287815e-09 [0.99996376]\n",
            "16 1.7404318e-09 [0.9999807]\n",
            "17 4.974332e-10 [0.9999897]\n",
            "18 1.4032746e-10 [0.9999945]\n",
            "19 4.0156323e-11 [0.9999971]\n",
            "20 1.1581847e-11 [0.99999845]\n"
          ],
          "name": "stdout"
        }
      ]
    },
    {
      "cell_type": "markdown",
      "metadata": {
        "id": "nt3x0ze4_q-a"
      },
      "source": [
        "**Gradient Descent Magic**\n",
        "* cost를 일일이 미분하지 않아도 자동으로 처리해주는 방법\n",
        "\n",
        "  ```\n",
        "  optimizer = tf.train.GradientDescentOptimizer(learning_rate = 0.1)\n",
        "  train = optimizer.minimize(cost)\n",
        "  ```"
      ]
    },
    {
      "cell_type": "markdown",
      "metadata": {
        "id": "azEnvC71AOkh"
      },
      "source": [
        "###**W=5일때**"
      ]
    },
    {
      "cell_type": "markdown",
      "metadata": {
        "id": "JhktP8L4AhYP"
      },
      "source": [
        "* W를 터무니없는 값을 주고 시작했을 때 잘 작동하는지를 알아보기 위함"
      ]
    },
    {
      "cell_type": "code",
      "metadata": {
        "id": "0SVUEGin-7uA"
      },
      "source": [
        "import tensorflow as tf"
      ],
      "execution_count": 19,
      "outputs": []
    },
    {
      "cell_type": "code",
      "metadata": {
        "id": "0RKn80NmAm7q"
      },
      "source": [
        "# tf Graph Input\n",
        "X = [1,2,3]\n",
        "Y = [1,2,3]"
      ],
      "execution_count": 20,
      "outputs": []
    },
    {
      "cell_type": "code",
      "metadata": {
        "id": "EuioxKo3AqPI"
      },
      "source": [
        "# Set wrong model weights\n",
        "W = tf.Variable(5.0)"
      ],
      "execution_count": 22,
      "outputs": []
    },
    {
      "cell_type": "code",
      "metadata": {
        "id": "FWAD5_8wAucb"
      },
      "source": [
        "# Linear model\n",
        "hypothesis = X * W\n",
        "# cost/Loss function\n",
        "cost = tf.reduce_mean(tf.square(hypothesis - Y))"
      ],
      "execution_count": 23,
      "outputs": []
    },
    {
      "cell_type": "code",
      "metadata": {
        "id": "BmLJQ-6pA_hf"
      },
      "source": [
        "# Minimize: Gradient Descent Magic\n",
        "optimizer = tf.train.GradientDescentOptimizer(learning_rate = 0.1)\n",
        "train = optimizer.minimize(cost)"
      ],
      "execution_count": 24,
      "outputs": []
    },
    {
      "cell_type": "code",
      "metadata": {
        "id": "_qAPvQeeBIzQ"
      },
      "source": [
        "# Launch the graph in a session\n",
        "sess = tf.Session()\n",
        "# Initializes global variables in the grpah.\n",
        "sess.run(tf.global_variables_initializer())"
      ],
      "execution_count": 25,
      "outputs": []
    },
    {
      "cell_type": "code",
      "metadata": {
        "colab": {
          "base_uri": "https://localhost:8080/"
        },
        "id": "nhEsFZl6BSJJ",
        "outputId": "7bef6f52-22c1-4821-b864-c7b1dc4cb642"
      },
      "source": [
        "for step in range(10):\n",
        "  print(step, sess.run(W))\n",
        "  sess.run(train)"
      ],
      "execution_count": 26,
      "outputs": [
        {
          "output_type": "stream",
          "text": [
            "0 5.0\n",
            "1 1.2666664\n",
            "2 1.0177778\n",
            "3 1.0011852\n",
            "4 1.000079\n",
            "5 1.0000052\n",
            "6 1.0000004\n",
            "7 1.0\n",
            "8 1.0\n",
            "9 1.0\n"
          ],
          "name": "stdout"
        }
      ]
    },
    {
      "cell_type": "markdown",
      "metadata": {
        "id": "MsemoQJFBhHa"
      },
      "source": [
        "* optimizer가 제대로 동작하는 것을 확인할 수 있다.\n",
        "  * W가 1.0으로 수렴하는 것을 통해 알 수 있음."
      ]
    },
    {
      "cell_type": "markdown",
      "metadata": {
        "id": "qrSbpiYBC6TU"
      },
      "source": [
        "##**Optional: compute_gradient and apply_gradient**"
      ]
    },
    {
      "cell_type": "code",
      "metadata": {
        "id": "NnANpaVMBY-Z"
      },
      "source": [
        "import tensorflow as tf"
      ],
      "execution_count": 27,
      "outputs": []
    },
    {
      "cell_type": "code",
      "metadata": {
        "id": "dNgb9kLwDJ8r"
      },
      "source": [
        "X = [1,2,3]\n",
        "Y = [1,2,3]"
      ],
      "execution_count": 28,
      "outputs": []
    },
    {
      "cell_type": "code",
      "metadata": {
        "id": "khOyXaXDDL84"
      },
      "source": [
        "# Set wrong model weights\n",
        "W = tf.Variable(5.)"
      ],
      "execution_count": 34,
      "outputs": []
    },
    {
      "cell_type": "code",
      "metadata": {
        "id": "z4UIw5jvDQPF"
      },
      "source": [
        "# Linear model\n",
        "hypothesis = X * W\n",
        "\n",
        "# Manual gradient\n",
        "gradient = tf.reduce_mean((W * X - Y) * X) * 2   # 손으로 계산한 gradient\n",
        "\n",
        "# cost/Loss Function\n",
        "cost = tf.reduce_mean(tf.square(hypothesis - Y))\n",
        "optimizer = tf.train.GradientDescentOptimizer(learning_rate = 0.01)"
      ],
      "execution_count": 40,
      "outputs": []
    },
    {
      "cell_type": "code",
      "metadata": {
        "id": "N4qbU7OoD0qf"
      },
      "source": [
        "# Get gradients\n",
        "gvs = optimizer.compute_gradients(cost, [W])\n",
        "\n",
        "# Apply gradients\n",
        "apply_gradients = optimizer.apply_gradients(gvs)"
      ],
      "execution_count": 41,
      "outputs": []
    },
    {
      "cell_type": "code",
      "metadata": {
        "id": "E51xThnOEAvw"
      },
      "source": [
        "# Launch the graph in a session.\n",
        "sess = tf.Session()\n",
        "sess.run(tf.global_variables_initializer())"
      ],
      "execution_count": 42,
      "outputs": []
    },
    {
      "cell_type": "code",
      "metadata": {
        "colab": {
          "base_uri": "https://localhost:8080/"
        },
        "id": "-odNi_y1F8-1",
        "outputId": "ad56e500-898a-4a5d-fbf9-2b3bb698ef6c"
      },
      "source": [
        "for step in range(100):\n",
        "  print(step, sess.run([gradient, W, gvs]))\n",
        "  sess.run(apply_gradients)"
      ],
      "execution_count": 43,
      "outputs": [
        {
          "output_type": "stream",
          "text": [
            "0 [37.333332, 5.0, [(37.333336, 5.0)]]\n",
            "1 [33.84889, 4.6266665, [(33.84889, 4.6266665)]]\n",
            "2 [30.689657, 4.2881775, [(30.689657, 4.2881775)]]\n",
            "3 [27.825287, 3.9812808, [(27.825287, 3.9812808)]]\n",
            "4 [25.228262, 3.703028, [(25.228262, 3.703028)]]\n",
            "5 [22.873621, 3.4507453, [(22.873623, 3.4507453)]]\n",
            "6 [20.738752, 3.2220092, [(20.73875, 3.2220092)]]\n",
            "7 [18.803137, 3.0146217, [(18.803137, 3.0146217)]]\n",
            "8 [17.048176, 2.8265903, [(17.048176, 2.8265903)]]\n",
            "9 [15.457013, 2.6561086, [(15.457014, 2.6561086)]]\n",
            "10 [14.014359, 2.5015385, [(14.01436, 2.5015385)]]\n",
            "11 [12.706352, 2.361395, [(12.706352, 2.361395)]]\n",
            "12 [11.520427, 2.2343314, [(11.520427, 2.2343314)]]\n",
            "13 [10.445186, 2.119127, [(10.445185, 2.119127)]]\n",
            "14 [9.470302, 2.0146751, [(9.470302, 2.0146751)]]\n",
            "15 [8.586407, 1.9199722, [(8.586407, 1.9199722)]]\n",
            "16 [7.785009, 1.8341081, [(7.785009, 1.8341081)]]\n",
            "17 [7.0584083, 1.756258, [(7.0584083, 1.756258)]]\n",
            "18 [6.399624, 1.685674, [(6.399624, 1.685674)]]\n",
            "19 [5.8023257, 1.6216778, [(5.8023252, 1.6216778)]]\n",
            "20 [5.260776, 1.5636545, [(5.260776, 1.5636545)]]\n",
            "21 [4.7697697, 1.5110468, [(4.7697697, 1.5110468)]]\n",
            "22 [4.324591, 1.4633491, [(4.324591, 1.4633491)]]\n",
            "23 [3.9209633, 1.4201032, [(3.9209635, 1.4201032)]]\n",
            "24 [3.5550067, 1.3808936, [(3.5550067, 1.3808936)]]\n",
            "25 [3.2232056, 1.3453435, [(3.2232056, 1.3453435)]]\n",
            "26 [2.9223735, 1.3131114, [(2.9223735, 1.3131114)]]\n",
            "27 [2.6496189, 1.2838877, [(2.6496186, 1.2838877)]]\n",
            "28 [2.4023216, 1.2573916, [(2.4023216, 1.2573916)]]\n",
            "29 [2.178105, 1.2333684, [(2.178105, 1.2333684)]]\n",
            "30 [1.9748148, 1.2115873, [(1.9748147, 1.2115873)]]\n",
            "31 [1.7904993, 1.1918392, [(1.7904994, 1.1918392)]]\n",
            "32 [1.623386, 1.1739342, [(1.6233861, 1.1739342)]]\n",
            "33 [1.4718695, 1.1577003, [(1.4718695, 1.1577003)]]\n",
            "34 [1.3344955, 1.1429816, [(1.3344957, 1.1429816)]]\n",
            "35 [1.2099417, 1.1296366, [(1.2099419, 1.1296366)]]\n",
            "36 [1.0970144, 1.1175373, [(1.0970144, 1.1175373)]]\n",
            "37 [0.9946267, 1.1065671, [(0.9946267, 1.1065671)]]\n",
            "38 [0.90179497, 1.0966209, [(0.901795, 1.0966209)]]\n",
            "39 [0.8176275, 1.087603, [(0.81762755, 1.087603)]]\n",
            "40 [0.7413151, 1.0794266, [(0.7413151, 1.0794266)]]\n",
            "41 [0.67212623, 1.0720135, [(0.67212623, 1.0720135)]]\n",
            "42 [0.609394, 1.0652922, [(0.609394, 1.0652922)]]\n",
            "43 [0.5525169, 1.0591983, [(0.5525169, 1.0591983)]]\n",
            "44 [0.50094914, 1.0536731, [(0.50094914, 1.0536731)]]\n",
            "45 [0.45419374, 1.0486636, [(0.45419377, 1.0486636)]]\n",
            "46 [0.41180158, 1.0441216, [(0.41180158, 1.0441216)]]\n",
            "47 [0.37336722, 1.0400037, [(0.37336725, 1.0400037)]]\n",
            "48 [0.33851996, 1.03627, [(0.33852, 1.03627)]]\n",
            "49 [0.30692515, 1.0328848, [(0.30692515, 1.0328848)]]\n",
            "50 [0.27827826, 1.0298156, [(0.2782783, 1.0298156)]]\n",
            "51 [0.25230527, 1.0270327, [(0.25230527, 1.0270327)]]\n",
            "52 [0.2287569, 1.0245097, [(0.2287569, 1.0245097)]]\n",
            "53 [0.20740573, 1.022222, [(0.20740573, 1.022222)]]\n",
            "54 [0.18804836, 1.020148, [(0.18804836, 1.020148)]]\n",
            "55 [0.17049654, 1.0182675, [(0.17049655, 1.0182675)]]\n",
            "56 [0.15458433, 1.0165626, [(0.15458433, 1.0165626)]]\n",
            "57 [0.14015675, 1.0150168, [(0.14015675, 1.0150168)]]\n",
            "58 [0.12707591, 1.0136153, [(0.12707591, 1.0136153)]]\n",
            "59 [0.11521538, 1.0123445, [(0.11521538, 1.0123445)]]\n",
            "60 [0.10446167, 1.0111923, [(0.10446167, 1.0111923)]]\n",
            "61 [0.09471202, 1.0101477, [(0.09471202, 1.0101477)]]\n",
            "62 [0.08587202, 1.0092006, [(0.08587202, 1.0092006)]]\n",
            "63 [0.07785805, 1.0083419, [(0.07785805, 1.0083419)]]\n",
            "64 [0.07059129, 1.0075634, [(0.07059129, 1.0075634)]]\n",
            "65 [0.06400236, 1.0068574, [(0.06400236, 1.0068574)]]\n",
            "66 [0.05802846, 1.0062174, [(0.05802846, 1.0062174)]]\n",
            "67 [0.052612226, 1.005637, [(0.052612226, 1.005637)]]\n",
            "68 [0.047702473, 1.005111, [(0.047702473, 1.005111)]]\n",
            "69 [0.043249767, 1.0046339, [(0.043249767, 1.0046339)]]\n",
            "70 [0.03921318, 1.0042014, [(0.03921318, 1.0042014)]]\n",
            "71 [0.035553534, 1.0038093, [(0.035553537, 1.0038093)]]\n",
            "72 [0.032236177, 1.0034539, [(0.03223618, 1.0034539)]]\n",
            "73 [0.029227654, 1.0031315, [(0.029227655, 1.0031315)]]\n",
            "74 [0.02649951, 1.0028392, [(0.02649951, 1.0028392)]]\n",
            "75 [0.024025917, 1.0025742, [(0.024025917, 1.0025742)]]\n",
            "76 [0.021783749, 1.002334, [(0.02178375, 1.002334)]]\n",
            "77 [0.01975123, 1.0021162, [(0.019751232, 1.0021162)]]\n",
            "78 [0.017907381, 1.0019187, [(0.017907381, 1.0019187)]]\n",
            "79 [0.016236702, 1.0017396, [(0.016236704, 1.0017396)]]\n",
            "80 [0.014720838, 1.0015773, [(0.014720838, 1.0015773)]]\n",
            "81 [0.01334699, 1.00143, [(0.013346991, 1.00143)]]\n",
            "82 [0.012100856, 1.0012965, [(0.012100856, 1.0012965)]]\n",
            "83 [0.010971785, 1.0011755, [(0.010971785, 1.0011755)]]\n",
            "84 [0.0099481745, 1.0010659, [(0.0099481745, 1.0010659)]]\n",
            "85 [0.009018898, 1.0009663, [(0.009018898, 1.0009663)]]\n",
            "86 [0.008176883, 1.0008761, [(0.008176884, 1.0008761)]]\n",
            "87 [0.007413149, 1.0007943, [(0.007413149, 1.0007943)]]\n",
            "88 [0.006721576, 1.0007201, [(0.006721576, 1.0007201)]]\n",
            "89 [0.0060940585, 1.0006529, [(0.0060940585, 1.0006529)]]\n",
            "90 [0.005525271, 1.000592, [(0.0055252714, 1.000592)]]\n",
            "91 [0.0050098896, 1.0005368, [(0.0050098896, 1.0005368)]]\n",
            "92 [0.004542589, 1.0004867, [(0.004542589, 1.0004867)]]\n",
            "93 [0.0041189194, 1.0004413, [(0.0041189194, 1.0004413)]]\n",
            "94 [0.0037339528, 1.0004001, [(0.003733953, 1.0004001)]]\n",
            "95 [0.0033854644, 1.0003628, [(0.0033854644, 1.0003628)]]\n",
            "96 [0.0030694802, 1.0003289, [(0.0030694804, 1.0003289)]]\n",
            "97 [0.0027837753, 1.0002983, [(0.0027837753, 1.0002983)]]\n",
            "98 [0.0025234222, 1.0002704, [(0.0025234222, 1.0002704)]]\n",
            "99 [0.0022875469, 1.0002451, [(0.0022875469, 1.0002451)]]\n"
          ],
          "name": "stdout"
        }
      ]
    },
    {
      "cell_type": "markdown",
      "metadata": {
        "id": "9ujVwGsLG_2H"
      },
      "source": [
        "* 손으로 계산한 gradient(gradient)와 컴퓨터가 자동으로 계산한 gradient(gvs)는 유사하다."
      ]
    }
  ]
}